{
 "cells": [
  {
   "cell_type": "code",
   "execution_count": null,
   "id": "50483b4d",
   "metadata": {},
   "outputs": [],
   "source": [
    "import pandas as pd\n",
    "import json\n",
    "import csv\n",
    "import joblib\n",
    "import numpy as np\n",
    "from datetime import datetime\n",
    "from collections import Counter\n",
    "from sklearn.preprocessing import OneHotEncoder\n",
    "from sklearn.model_selection import train_test_split\n",
    "import os\n",
    "from tensorflow import keras\n",
    "from keras_bert import get_base_dict, get_model, compile_model, gen_batch_inputs\n",
    "os.environ['KMP_DUPLICATE_LIB_OK']='True'\n",
    "os.environ[\"CUDA_VISIBLE_DEVICES\"] = '1,2'"
   ]
  },
  {
   "cell_type": "markdown",
   "id": "4b2e9f1f",
   "metadata": {},
   "source": [
    "## Load sequence pairs of clinical codes to train BERT model"
   ]
  },
  {
   "cell_type": "code",
   "execution_count": null,
   "id": "26a4cbf0",
   "metadata": {},
   "outputs": [],
   "source": [
    "import joblib\n",
    "\n",
    "sentence_pair=joblib.load('sentence_pair_sample.joblib')"
   ]
  },
  {
   "cell_type": "code",
   "execution_count": null,
   "id": "4e1d1d40",
   "metadata": {},
   "outputs": [],
   "source": [
    "# Build token dictionary\n",
    "token_dict = get_base_dict()  # A dict that contains some special tokens\n",
    "for pairs in sentence_pairs:\n",
    "    for token in pairs[0] + pairs[1]:\n",
    "        if token not in token_dict:\n",
    "            token_dict[token] = len(token_dict)\n",
    "token_list = list(token_dict.keys())  # Used for selecting a random word"
   ]
  },
  {
   "cell_type": "markdown",
   "id": "7e067dae",
   "metadata": {},
   "source": [
    "## Build & train the model"
   ]
  },
  {
   "cell_type": "code",
   "execution_count": null,
   "id": "6a99bd77",
   "metadata": {},
   "outputs": [],
   "source": [
    "# Build & train the model\n",
    "model = get_model(\n",
    "    token_num=len(token_dict),\n",
    "    head_num=4,\n",
    "    transformer_num=6,\n",
    "    embed_dim=32,\n",
    "    feed_forward_dim=20,\n",
    "    seq_len=20,\n",
    "    pos_num=20,\n",
    "    dropout_rate=0.05,\n",
    ")\n",
    "compile_model(model)\n",
    "model.summary()"
   ]
  },
  {
   "cell_type": "code",
   "execution_count": null,
   "id": "fc8cdb64",
   "metadata": {},
   "outputs": [],
   "source": [
    "def _generator():\n",
    "    while True:\n",
    "        yield gen_batch_inputs(\n",
    "            sentence_pairs_train,\n",
    "            token_dict,\n",
    "            token_list,\n",
    "            seq_len=20,\n",
    "            mask_rate=0.3,\n",
    "            swap_sentence_rate=1.0,\n",
    "        )\n",
    "\n",
    "model.fit_generator(\n",
    "    generator=_generator(),\n",
    "    steps_per_epoch=1000,\n",
    "    epochs=10,\n",
    "    validation_data=_generator(),\n",
    "    validation_steps=100,\n",
    "    callbacks=[\n",
    "        keras.callbacks.EarlyStopping(monitor='val_loss', patience=5)\n",
    "    ],\n",
    ")"
   ]
  },
  {
   "cell_type": "markdown",
   "id": "2dc07de1",
   "metadata": {},
   "source": [
    "## Extract the embedding layer and output the embedding for each clinical code"
   ]
  },
  {
   "cell_type": "code",
   "execution_count": null,
   "id": "d3ed8a99",
   "metadata": {},
   "outputs": [],
   "source": [
    "embmodel=keras.Model(inputs=model.layers[2].input,outputs=model.layers[2].output[2])"
   ]
  },
  {
   "cell_type": "code",
   "execution_count": null,
   "id": "af576a99",
   "metadata": {},
   "outputs": [],
   "source": [
    "tokensinput=np.asarray([i for i in range(5,567)]+[0]*18)\n",
    "tokensinput=tokensinput.reshape((29,20))\n",
    "tokensemb=embmodel.predict(tokensinput)\n",
    "np.save('token2emb_bert.npy',tokensemb[1][:562,:])    "
   ]
  }
 ],
 "metadata": {
  "kernelspec": {
   "display_name": "Python 3 (ipykernel)",
   "language": "python",
   "name": "python3"
  },
  "language_info": {
   "codemirror_mode": {
    "name": "ipython",
    "version": 3
   },
   "file_extension": ".py",
   "mimetype": "text/x-python",
   "name": "python",
   "nbconvert_exporter": "python",
   "pygments_lexer": "ipython3",
   "version": "3.9.18"
  }
 },
 "nbformat": 4,
 "nbformat_minor": 5
}
