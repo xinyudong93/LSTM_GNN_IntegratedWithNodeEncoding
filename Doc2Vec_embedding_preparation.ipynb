{
 "cells": [
  {
   "cell_type": "code",
   "execution_count": null,
   "id": "7f683848",
   "metadata": {},
   "outputs": [],
   "source": [
    "import os\n",
    "import pandas as pd\n",
    "import numpy as np\n",
    "import matplotlib.pyplot as plt\n",
    "import tensorflow as tf\n",
    "from tensorflow import keras\n",
    "from tensorflow.keras import layers\n",
    "import pickle\n",
    "from gensim.models.doc2vec import Doc2Vec, TaggedDocument\n",
    "import nltk\n",
    "from nltk.tokenize import word_tokenize\n",
    "nltk.download('punkt')\n",
    "os.environ[\"CUDA_VISIBLE_DEVICES\"] = '1,2'"
   ]
  },
  {
   "cell_type": "markdown",
   "id": "3e58368f",
   "metadata": {},
   "source": [
    "## Load the Description of ICD codes and ATC codes"
   ]
  },
  {
   "cell_type": "code",
   "execution_count": null,
   "id": "dd516ea9",
   "metadata": {},
   "outputs": [],
   "source": [
    "icd10=pd.read_csv('ICD_10_Desc.csv')\n",
    "icd9=pd.read_csv('ICD_9_Desc.csv')\n",
    "meddesc=pd.read_csv('atc_description.csv')"
   ]
  },
  {
   "cell_type": "code",
   "execution_count": null,
   "id": "e5722c4b",
   "metadata": {},
   "outputs": [],
   "source": [
    "allsentences=[]\n",
    "\n",
    "for i in range(icd10.shape[0]):\n",
    "    allsentences.append(icd10['LONG DESCRIPTION (VALID ICD-10 FY2024)'][i])\n",
    "for i in range(icd9.shape[0]):\n",
    "    allsentences.append(icd9['LONG DESCRIPTION (VALID ICD-9 FY2024)'][i])\n",
    "    \n",
    "\n",
    "dxtokens=[]\n",
    "\n",
    "for i in range(len(allsentences)):\n",
    "    s=allsentences[i]\n",
    "    if pd.isnull(s):\n",
    "        continue\n",
    "    dxtokens.append(word_tokenize(s))\n",
    "    \n",
    "dx_tagged_data = [TaggedDocument(d, [i]) for i, d in enumerate(dxtokens)]\n",
    "dxmodel = Doc2Vec(dx_tagged_data, vector_size = 32, window = 2, min_count = 1, epochs = 50)\n",
    "\n",
    "diagnosis_desc_dict={}\n",
    "\n",
    "\n",
    "for i in range(icd10.shape[0]):\n",
    "    if pd.isnull(icd10['LONG DESCRIPTION (VALID ICD-10 FY2024)'][i]):\n",
    "        continue\n",
    "    code=icd10['CODE'][i][:3].upper()\n",
    "    if code in dxdict:\n",
    "        sentencei=icd10['LONG DESCRIPTION (VALID ICD-10 FY2024)'][i]\n",
    "        tokenized_w=word_tokenize(sentencei)\n",
    "        test_doc_vector = dxmodel.infer_vector(tokenized_w)\n",
    "        \n",
    "        if code in diagnosis_desc_dict:\n",
    "            diagnosis_desc_dict[code].append(test_doc_vector)\n",
    "        else:\n",
    "            diagnosis_desc_dict[code]=[test_doc_vector]\n",
    "            \n",
    "\n",
    "\n",
    "for i in range(icd9.shape[0]):\n",
    "    if pd.isnull(icd9['LONG DESCRIPTION (VALID ICD-9 FY2024)'][i]):\n",
    "        continue\n",
    "    code=icd9['CODE'][i][:3].upper()\n",
    "    if code in dxdict:\n",
    "        sentencei=icd9['LONG DESCRIPTION (VALID ICD-9 FY2024)'][i]\n",
    "        tokenized_w=word_tokenize(sentencei)\n",
    "        test_doc_vector = dxmodel.infer_vector(tokenized_w)\n",
    "        if code in diagnosis_desc_dict:\n",
    "            diagnosis_desc_dict[code].append(test_doc_vector)\n",
    "        else:\n",
    "            diagnosis_desc_dict[code]=[test_doc_vector]    \n",
    "    \n",
    "for dx in diagnosis_desc_dict:\n",
    "    diagnosis_desc_dict[dx]=np.mean(diagnosis_desc_dict[dx],axis=0)\n",
    "\n",
    "len(diagnosis_desc_dict)\n"
   ]
  },
  {
   "cell_type": "code",
   "execution_count": null,
   "id": "cf181f69",
   "metadata": {},
   "outputs": [],
   "source": [
    "medsentences=[]\n",
    "\n",
    "for i in range(meddesc.shape[0]):\n",
    "    medsentences.append(meddesc['Description'][i])\n",
    "\n",
    "print(len(medsentences))\n",
    "medtokens=[]\n",
    "\n",
    "for i in range(len(medsentences)):\n",
    "    s=medsentences[i]\n",
    "    if pd.isnull(s):\n",
    "        continue\n",
    "    medtokens.append(word_tokenize(s))\n",
    "\n",
    "med_tagged_data = [TaggedDocument(d, [i]) for i, d in enumerate(medtokens)]\n",
    "\n",
    "medmodel = Doc2Vec(med_tagged_data, vector_size = 32, window = 2, min_count = 1, epochs = 50)\n",
    "\n",
    "med_desc_dict={}\n",
    "\n",
    "for i in range(meddesc.shape[0]):\n",
    "    if pd.isnull(meddesc['Description'][i]):\n",
    "        continue\n",
    "    code=meddesc['Code'][i]\n",
    "    if code in meddict:\n",
    "        sentencei=meddesc['Description'][i]\n",
    "        tokenized_w=word_tokenize(sentencei)\n",
    "        test_doc_vector = medmodel.infer_vector(tokenized_w)\n",
    "        med_desc_dict[code]=test_doc_vector\n",
    "\n",
    "len(med_desc_dict)"
   ]
  },
  {
   "cell_type": "markdown",
   "id": "0e03a229",
   "metadata": {},
   "source": [
    "## Output the Doc2Vec embeddings for ICD and ATC codes"
   ]
  },
  {
   "cell_type": "code",
   "execution_count": null,
   "id": "bc7f8352",
   "metadata": {},
   "outputs": [],
   "source": [
    "pickle.dump(diagnosis_desc_dict,open('diagnosis_desc_dict.pkl','wb'))\n",
    "pickle.dump(med_desc_dict,open('med_desc_dict.pkl','wb'))"
   ]
  }
 ],
 "metadata": {
  "kernelspec": {
   "display_name": "Python 3 (ipykernel)",
   "language": "python",
   "name": "python3"
  },
  "language_info": {
   "codemirror_mode": {
    "name": "ipython",
    "version": 3
   },
   "file_extension": ".py",
   "mimetype": "text/x-python",
   "name": "python",
   "nbconvert_exporter": "python",
   "pygments_lexer": "ipython3",
   "version": "3.9.18"
  }
 },
 "nbformat": 4,
 "nbformat_minor": 5
}
